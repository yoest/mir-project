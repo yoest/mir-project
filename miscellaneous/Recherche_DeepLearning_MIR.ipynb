{
  "cells": [
    {
      "cell_type": "markdown",
      "metadata": {
        "id": "PhSHUvV5Eddf"
      },
      "source": [
        "## **1. Télécharger la base d'images**\n",
        "https://cluster.ig.umons.ac.be/workshop_ia/image.orig.zip \n",
        " "
      ]
    },
    {
      "cell_type": "markdown",
      "metadata": {
        "id": "6rckGRRiE4lz"
      },
      "source": [
        "## **2. Télécharger les descriteurs (exemples de descripteurs obtenues avec VGG16)**\n",
        "https://drive.google.com/drive/folders/1--t1vVUrXnU3DByxCyG9Fs2rxwXRWlGr?usp=sharing  "
      ]
    },
    {
      "cell_type": "code",
      "execution_count": null,
      "metadata": {
        "id": "ndKF8Klon-w8"
      },
      "outputs": [],
      "source": [
        "from keras.preprocessing.image import load_img\n",
        "from keras.preprocessing.image import img_to_array\n",
        "from keras.applications.vgg16 import preprocess_input\n",
        "from keras.applications.vgg16 import decode_predictions\n",
        "from keras.applications import vgg16\n",
        "from keras.applications import vgg19\n",
        "from keras.applications import resnet50\n",
        "from keras.applications import inception_v3\n",
        "from keras.applications import mobilenet\n",
        "from keras.applications import xception\n",
        "#from scipy.misc import imread, imresize\n",
        "from matplotlib.pyplot import imread\n",
        "import matplotlib.pyplot as plt\n",
        "import numpy as np\n",
        "import operator\n",
        "import math\n",
        "import os\n",
        "import tensorflow as tf"
      ]
    },
    {
      "cell_type": "code",
      "execution_count": null,
      "metadata": {
        "id": "PyL5F8tLxorG"
      },
      "outputs": [],
      "source": [
        "def euclidianDistance(l1,l2):\n",
        "    distance = 0\n",
        "    length = min(len(l1),len(l2))\n",
        "    for i in range(length):\n",
        "        distance += pow((l1[i] - l2[i]), 2)\n",
        "    return math.sqrt(distance)"
      ]
    },
    {
      "cell_type": "code",
      "execution_count": null,
      "metadata": {
        "id": "pG-VunIOxrO1"
      },
      "outputs": [],
      "source": [
        "def getkVoisins(lfeatures, test, k) : \n",
        "    ldistances = []\n",
        "    for i in range(len(lfeatures)):\n",
        "        dist = euclidianDistance(test[1], lfeatures[i][1])\n",
        "        ldistances.append((lfeatures[i][0], lfeatures[i][1], dist))\n",
        "    ldistances.sort(key=operator.itemgetter(2))\n",
        "    lvoisins = []\n",
        "    for i in range(k):\n",
        "        lvoisins.append(ldistances[i])\n",
        "    return lvoisins"
      ]
    },
    {
      "cell_type": "code",
      "execution_count": null,
      "metadata": {
        "id": "Wi2t-iAlxxJh"
      },
      "outputs": [],
      "source": [
        "from keras.models import Model"
      ]
    },
    {
      "cell_type": "code",
      "execution_count": null,
      "metadata": {
        "colab": {
          "base_uri": "https://localhost:8080/"
        },
        "id": "BZ10SFy0xzfR",
        "outputId": "2abe699d-6a89-47bb-a965-642b90b23c93"
      },
      "outputs": [
        {
          "name": "stdout",
          "output_type": "stream",
          "text": [
            "Downloading data from https://storage.googleapis.com/tensorflow/keras-applications/vgg16/vgg16_weights_tf_dim_ordering_tf_kernels.h5\n",
            "553467904/553467096 [==============================] - 4s 0us/step\n"
          ]
        }
      ],
      "source": [
        "model0 = vgg16.VGG16(weights='imagenet', include_top=True,pooling='avg')\n",
        "model1 = Model(inputs=model0.input, outputs=model0.layers[-2].output)"
      ]
    },
    {
      "cell_type": "code",
      "execution_count": null,
      "metadata": {
        "id": "iemUeEU9wqRm"
      },
      "outputs": [],
      "source": [
        "files='./image.orig'\n",
        "folder_model = './VGG16'\n",
        "features1=[]\n",
        "pas=0\n",
        "for j in os.listdir(folder_model): #Le paramètre \"files\" donne le nom du dossier dans lequel se trouvent les images\n",
        "  data=os.path.join(folder_model,j)\n",
        "  if not data.endswith(\".txt\"):\n",
        "    continue         \n",
        "  feature = np.loadtxt(data)\n",
        "  features1.append((os.path.join(files,os.path.basename(data).split('.')[0]+'.jpg'),feature))\n",
        "  #print(pas)\n",
        "  pas += 1"
      ]
    },
    {
      "cell_type": "code",
      "execution_count": null,
      "metadata": {
        "id": "5drCJd1nxemk"
      },
      "outputs": [],
      "source": [
        "import warnings\n",
        "warnings.filterwarnings('ignore')\n",
        "sortie=20\n",
        "voisins = getkVoisins(features1, features1[123], sortie)\n",
        "\n",
        "nom_image_plus_proches = []\n",
        "nom_image_plus_proches_sans = [] \n",
        "\n",
        "for k in range(sortie):\n",
        "    nom_image_plus_proches.append(voisins[k][0])\n",
        "plt.figure(figsize=(5, 5))\n",
        "plt.imshow(imread(features1[123][0]), cmap='gray', interpolation='none')\n",
        "plt.title(\"Image requête\")\n",
        "nom_image_requete=os.path.splitext(os.path.basename(features1[123][0]))[0]\n",
        "print(nom_image_requete)\n",
        "      \n",
        "plt.figure(figsize=(25, 25))\n",
        "plt.subplots_adjust(hspace=0.2, wspace=0.2)\n",
        "\n",
        "for j in range(sortie): \n",
        "    plt.subplot(sortie/4,sortie/5,j+1)\n",
        "    plt.imshow(imread(nom_image_plus_proches[j]), cmap='gray', interpolation='none')\n",
        "    nom_image_plus_proches_sans.append(os.path.splitext(os.path.basename(nom_image_plus_proches[j]))[0])\n",
        "    title = \"Image proche n°\"+str(j)\n",
        "    plt.title(title)"
      ]
    },
    {
      "cell_type": "code",
      "execution_count": null,
      "metadata": {
        "id": "FKO_9pTYESXs"
      },
      "outputs": [],
      "source": [
        "text_file = open(\"VGG_RP.txt\", \"w\")\n",
        "rappel_precision=[]\n",
        "rp = []\n",
        "position1=int(nom_image_requete)//100\n",
        "for j in range(sortie):\n",
        "  position2=int(nom_image_plus_proches_sans[j])//100\n",
        "  if position1==position2:\n",
        "    rappel_precision.append(\"pertinant\")\n",
        "  else:\n",
        "    rappel_precision.append(\"non pertinant\")\n",
        "\n",
        "for i in range(sortie):\n",
        "  j=i\n",
        "  val=0\n",
        "  while j>=0:\n",
        "    if rappel_precision[j]==\"pertinant\":\n",
        "      val+=1\n",
        "    j-=1\n",
        "  rp.append(str((val/(i+1))*100)+\" \"+str((val/sortie)*100))\n",
        "  \n",
        "with open(\"VGG_RP.txt\", 'w') as s:\n",
        "  for a in rp:\n",
        "    s.write(str(a) + '\\n')  "
      ]
    },
    {
      "cell_type": "code",
      "execution_count": null,
      "metadata": {
        "id": "7mAiulUxEWrA"
      },
      "outputs": [],
      "source": [
        "import csv\n",
        "x = []\n",
        "y = []\n",
        "fichier = \"VGG_RP.txt\"\n",
        "with open(fichier) as csvfile:\n",
        "    plots = csv.reader(csvfile, delimiter=' ')\n",
        "    for row in plots:\n",
        "        x.append(float(row[0]))\n",
        "        y.append(float(row[1]))\n",
        "        fig = plt.figure()\n",
        "line, =plt.plot(y,x,'C1', label=\"VGG16\" )\n",
        "plt.xlabel('Rappel')\n",
        "plt.ylabel('Précison')\n",
        "plt.title(\"R/P\")\n",
        "plt.legend()"
      ]
    }
  ],
  "metadata": {
    "accelerator": "GPU",
    "colab": {
      "name": "Recherche_MIR.ipynb",
      "provenance": []
    },
    "kernelspec": {
      "display_name": "Python 3.9.13 64-bit (microsoft store)",
      "language": "python",
      "name": "python3"
    },
    "language_info": {
      "name": "python",
      "version": "3.9.13"
    },
    "vscode": {
      "interpreter": {
        "hash": "3463b49f950dcd658246cc5600b972fc82613b75a25f42bef66d3c75082c11a4"
      }
    }
  },
  "nbformat": 4,
  "nbformat_minor": 0
}
